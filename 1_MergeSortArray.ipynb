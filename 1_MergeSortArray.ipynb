{
 "cells": [
  {
   "cell_type": "markdown",
   "metadata": {
    "vscode": {
     "languageId": "plaintext"
    }
   },
   "source": [
    "## Merge two Arrays:\n",
    "**Example:**\n",
    "nums1 = [1,2,3,0,0,0], m = 3, nums2 = [2,5,6], n = 3\n",
    "\n",
    "Output: [1,2,2,3,5,6]  * This must be nums1."
   ]
  },
  {
   "cell_type": "code",
   "execution_count": 648,
   "metadata": {},
   "outputs": [],
   "source": [
    "class Solution(object):\n",
    "    def merge(self, nums1, m, nums2, n):\n",
    "        \"\"\"\n",
    "        :type nums1: List[int]\n",
    "        :type m: int\n",
    "        :type nums2: List[int]\n",
    "        :type n: int\n",
    "        :rtype: None Do not return anything, modify nums1 in-place instead.\n",
    "        \"\"\"\n",
    "        n1=len(nums1)\n",
    "        n2=len(nums2)\n",
    "        \n",
    "        while n1>=0 and n2>=0:\n",
    "        \n",
    "        # nums1 = [x for x in nums1 if x != 0]\n",
    "\n",
    "        while 0 in nums1:\n",
    "            nums1.remove(0)\n",
    "        print(nums1)"
   ]
  },
  {
   "cell_type": "code",
   "execution_count": 220,
   "metadata": {},
   "outputs": [],
   "source": [
    "# Case 1\n",
    "nums1 = [1,2,3,0,0,0]\n",
    "m = 3\n",
    "nums2 = [2,5,6]\n",
    "n = 3\n",
    "Output = []\n",
    "# Output: [1,2,2,3,5,6]"
   ]
  },
  {
   "cell_type": "code",
   "execution_count": 221,
   "metadata": {},
   "outputs": [
    {
     "name": "stdout",
     "output_type": "stream",
     "text": [
      "[1, 2, 3, 0, 0, 0]\n",
      "[1, 2, 3, 0, 0, 6]\n",
      "[1, 2, 3, 0, 5, 6]\n",
      "[1, 2, 2, 3, 5, 6]\n",
      "[1, 2, 2, 3, 5, 6]\n",
      "[1, 2, 2, 3, 5, 6]\n"
     ]
    }
   ],
   "source": [
    "#Initial solution: bad one, too many comparisons and redundancies. \n",
    "# This is a problem that happens a lot when using loops and \n",
    "# not resting as much as you must. It arrives at a good solution\n",
    "# but for a small subset of tests.\n",
    " \n",
    "n1=len(nums1)\n",
    "\n",
    "i = 0  # Initialize i to 0\n",
    "j = 0  # Initialize j to 0\n",
    "\n",
    "while i < n1:\n",
    "    j = i\n",
    "    print(nums1)\n",
    "    # print(nums1[-i-1])\n",
    "    while j < n2:\n",
    "\n",
    "        if nums2[-j-1]>nums1[-i-1] and nums2[-j-1]>nums1[m-1]:\n",
    "            nums1[-i-1] = nums2[-j-1]\n",
    "            break\n",
    "        else:\n",
    "\n",
    "            if nums1[-i-1]<=nums1[-i] and nums1[-i]>nums2[-j-1]:\n",
    "                nums1[-i-1] = nums1[m-1]\n",
    "                nums1[m-1] =  nums2[-j-1]\n",
    "                break\n",
    "            else:\n",
    "                break\n",
    "    i += 1\n"
   ]
  },
  {
   "cell_type": "code",
   "execution_count": 222,
   "metadata": {},
   "outputs": [],
   "source": [
    "class Solution(object):\n",
    "    def merge(self, nums1, m, nums2, n):\n",
    "\n",
    "        ''' My nice but long solution...'''\n",
    "        \n",
    "        # use two pointers, one for nums1 and one for nums2:\n",
    "        p1 = m - 1\n",
    "        p2 = n - 1\n",
    "\n",
    "        # Then, we use a third pointer to get to the end of the merged array\n",
    "        p = m + n - 1\n",
    "\n",
    "        # Then we merge the elements from nums1 and nums2 from end to the beginning:\n",
    "        while p1 >= 0 and p2 >= 0:\n",
    "            if nums1[p1] > nums2[p2]:\n",
    "                nums1[p] = nums1[p1]\n",
    "                p1 -= 1\n",
    "            else:\n",
    "                nums1[p] = nums2[p2]\n",
    "                p2 -= 1\n",
    "            p -= 1\n",
    "\n",
    "        # If we encounter remaining elements in nums2, we use another while:\n",
    "        while p2 >= 0:\n",
    "            nums1[p] = nums2[p2]\n",
    "            p2 -= 1\n",
    "            p -= 1\n"
   ]
  },
  {
   "cell_type": "code",
   "execution_count": 223,
   "metadata": {},
   "outputs": [],
   "source": [
    "# Case 2\n",
    "nums1 = [1]\n",
    "m = 1\n",
    "nums2 = []\n",
    "n = 0"
   ]
  },
  {
   "cell_type": "code",
   "execution_count": 226,
   "metadata": {},
   "outputs": [],
   "source": [
    "# Case 1\n",
    "nums1 = [1,2,3,0,0,0]\n",
    "m = 3\n",
    "nums2 = [2,5,6]\n",
    "n = 3\n",
    "Output = []\n",
    "# Output: [1,2,2,3,5,6]"
   ]
  },
  {
   "cell_type": "code",
   "execution_count": 227,
   "metadata": {},
   "outputs": [
    {
     "name": "stdout",
     "output_type": "stream",
     "text": [
      "[1, 2, 2, 3, 5, 6]\n"
     ]
    }
   ],
   "source": [
    "Solution().merge(nums1, m, nums2, n)\n",
    "print(nums1)"
   ]
  }
 ],
 "metadata": {
  "kernelspec": {
   "display_name": "base",
   "language": "python",
   "name": "python3"
  },
  "language_info": {
   "codemirror_mode": {
    "name": "ipython",
    "version": 3
   },
   "file_extension": ".py",
   "mimetype": "text/x-python",
   "name": "python",
   "nbconvert_exporter": "python",
   "pygments_lexer": "ipython3",
   "version": "3.11.5"
  }
 },
 "nbformat": 4,
 "nbformat_minor": 2
}
