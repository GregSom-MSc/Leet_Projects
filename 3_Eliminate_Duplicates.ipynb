{
 "cells": [
  {
   "cell_type": "markdown",
   "metadata": {
    "vscode": {
     "languageId": "plaintext"
    }
   },
   "source": [
    "Original data:\n",
    "\n",
    "**Table:** Person\n",
    "\n",
    "| id | email            |\n",
    "|----|------------------|\n",
    "| 1  | john@example.com |\n",
    "| 2  | bob@example.com  |\n",
    "| 3  | john@example.com |\n"
   ]
  },
  {
   "cell_type": "code",
   "execution_count": null,
   "metadata": {},
   "outputs": [],
   "source": [
    "import pandas as pd\n",
    "from pandasql import sqldf  # this is for making the sql querys within the jupyter notebook. "
   ]
  },
  {
   "cell_type": "markdown",
   "metadata": {},
   "source": [
    "I want to run SQL commands also, so:"
   ]
  },
  {
   "cell_type": "code",
   "execution_count": 50,
   "metadata": {},
   "outputs": [
    {
     "name": "stdout",
     "output_type": "stream",
     "text": [
      "The sql extension is already loaded. To reload it, use:\n",
      "  %reload_ext sql\n"
     ]
    }
   ],
   "source": [
    "%load_ext sql"
   ]
  },
  {
   "cell_type": "markdown",
   "metadata": {},
   "source": [
    "Create the Dataframe:"
   ]
  },
  {
   "cell_type": "code",
   "execution_count": 65,
   "metadata": {},
   "outputs": [],
   "source": [
    "# Create the Person DataFrame to play with:\n",
    "\n",
    "Person = {'id': [1,2,3],\n",
    "        'email': ['john@example.com', 'bob@example.com', 'john@example.com']}\n",
    "\n",
    "Person = pd.DataFrame(Person)\n",
    "Person2 = pd.DataFrame(Person)"
   ]
  },
  {
   "cell_type": "markdown",
   "metadata": {},
   "source": [
    "This is the Python Colution:"
   ]
  },
  {
   "cell_type": "code",
   "execution_count": 52,
   "metadata": {},
   "outputs": [],
   "source": [
    "Person1 = Person.drop_duplicates(subset='email', keep='first')"
   ]
  },
  {
   "cell_type": "markdown",
   "metadata": {},
   "source": [
    "Show Solution:"
   ]
  },
  {
   "cell_type": "code",
   "execution_count": 53,
   "metadata": {},
   "outputs": [
    {
     "data": {
      "text/html": [
       "<div>\n",
       "<style scoped>\n",
       "    .dataframe tbody tr th:only-of-type {\n",
       "        vertical-align: middle;\n",
       "    }\n",
       "\n",
       "    .dataframe tbody tr th {\n",
       "        vertical-align: top;\n",
       "    }\n",
       "\n",
       "    .dataframe thead th {\n",
       "        text-align: right;\n",
       "    }\n",
       "</style>\n",
       "<table border=\"1\" class=\"dataframe\">\n",
       "  <thead>\n",
       "    <tr style=\"text-align: right;\">\n",
       "      <th></th>\n",
       "      <th>id</th>\n",
       "      <th>email</th>\n",
       "    </tr>\n",
       "  </thead>\n",
       "  <tbody>\n",
       "    <tr>\n",
       "      <th>0</th>\n",
       "      <td>1</td>\n",
       "      <td>john@example.com</td>\n",
       "    </tr>\n",
       "    <tr>\n",
       "      <th>1</th>\n",
       "      <td>2</td>\n",
       "      <td>bob@example.com</td>\n",
       "    </tr>\n",
       "  </tbody>\n",
       "</table>\n",
       "</div>"
      ],
      "text/plain": [
       "   id             email\n",
       "0   1  john@example.com\n",
       "1   2   bob@example.com"
      ]
     },
     "execution_count": 53,
     "metadata": {},
     "output_type": "execute_result"
    }
   ],
   "source": [
    "Person1"
   ]
  },
  {
   "cell_type": "markdown",
   "metadata": {},
   "source": [
    "Now, the SQL Solution. we will build a simple query:\n",
    "\n",
    "1. Select od pver emails and order by email, so we will have several ids per mail. \n",
    "2. then, we select the id = 1 to keep only the first row. \n",
    "3. Then we erase the others!"
   ]
  },
  {
   "cell_type": "code",
   "execution_count": 75,
   "metadata": {},
   "outputs": [],
   "source": [
    "%sql sqlite:///Person2.db \n",
    "# to use the data base. "
   ]
  },
  {
   "cell_type": "code",
   "execution_count": 82,
   "metadata": {},
   "outputs": [],
   "source": [
    "pysqldf = lambda q: sqldf(q, globals())"
   ]
  },
  {
   "cell_type": "code",
   "execution_count": null,
   "metadata": {},
   "outputs": [],
   "source": [
    "''' I want to do this:  \"\"\"\n",
    "DELETE FROM Person2\n",
    "WHERE id NOT IN (\n",
    "    SELECT id\n",
    "    FROM (\n",
    "        SELECT id, ROW_NUMBER() OVER (PARTITION BY email ORDER BY id) AS row_num\n",
    "        FROM Person2\n",
    "    ) AS ranked\n",
    "    WHERE row_num = 1\n",
    ");\n",
    "\"\"\"\n",
    "'''\n",
    "\n",
    "# but the tools only make you select and find things, but we can rename the selection:\n",
    "\n",
    "query2 = \"\"\"\n",
    "SELECT *\n",
    "FROM Person2\n",
    "WHERE id IN (\n",
    "    SELECT id\n",
    "    FROM (\n",
    "        SELECT id, ROW_NUMBER() OVER (PARTITION BY email ORDER BY id) AS row_num\n",
    "        FROM Person2\n",
    "    ) AS ranked\n",
    "    WHERE row_num = 1\n",
    ");\n",
    "\"\"\""
   ]
  },
  {
   "cell_type": "code",
   "execution_count": 88,
   "metadata": {},
   "outputs": [],
   "source": [
    "df_EliDup = pysqldf(query2)"
   ]
  },
  {
   "cell_type": "code",
   "execution_count": 89,
   "metadata": {},
   "outputs": [
    {
     "name": "stdout",
     "output_type": "stream",
     "text": [
      "   id             email\n",
      "0   1  john@example.com\n",
      "1   2   bob@example.com\n",
      "   id             email\n",
      "0   1  john@example.com\n",
      "1   2   bob@example.com\n",
      "2   3  john@example.com\n"
     ]
    }
   ],
   "source": [
    "print(df_EliDup)\n",
    "print(Person2)"
   ]
  }
 ],
 "metadata": {
  "kernelspec": {
   "display_name": "base",
   "language": "python",
   "name": "python3"
  },
  "language_info": {
   "codemirror_mode": {
    "name": "ipython",
    "version": 3
   },
   "file_extension": ".py",
   "mimetype": "text/x-python",
   "name": "python",
   "nbconvert_exporter": "python",
   "pygments_lexer": "ipython3",
   "version": "3.11.5"
  }
 },
 "nbformat": 4,
 "nbformat_minor": 2
}
